{
  "cells": [
    {
      "cell_type": "markdown",
      "metadata": {
        "id": "view-in-github",
        "colab_type": "text"
      },
      "source": [
        "<a href=\"https://colab.research.google.com/github/sbarry25/SuperMarioBros---RL/blob/main/SuperMarioBros_RLTraining.ipynb\" target=\"_parent\"><img src=\"https://colab.research.google.com/assets/colab-badge.svg\" alt=\"Open In Colab\"/></a>"
      ]
    },
    {
      "cell_type": "markdown",
      "source": [],
      "metadata": {
        "id": "qAJxYYUwjseM"
      }
    },
    {
      "cell_type": "markdown",
      "metadata": {
        "id": "rZr5AC-33Q__"
      },
      "source": [
        "# OUR AIM - TRAINING SUPER MARIO !\n",
        "\n",
        "To use Reinforcent Learning to make mario automatically play the game. L-Lets go! 🍄\n",
        "\n",
        "![](https://www.notebookcheck.net/fileadmin/Notebooks/News/_nc3/2DD297B4_9BA0_4828_A4A2_149A8A73AF52.png)"
      ]
    },
    {
      "cell_type": "markdown",
      "metadata": {
        "id": "siXX4v5X3RAK"
      },
      "source": [
        "# INTRODUCTION TO OPEN AI GYM\n",
        "\n",
        "OpenAi is an \"Open source interface to reinforcement learning tasks.\n",
        "The gym library provides an easy-to-use suite of reinforcement learning tasks.\" (https://gym.openai.com/)\n",
        "\n",
        "Basically gives you multiple environments out of the box for you to train machine learning.\n",
        "\n",
        "![](https://miro.medium.com/max/1318/1*ZHISh_zLYIlJPTq_6lX5LQ.png)\n",
        "\n",
        "OpenAI Gym is a toolkit for developing and comparing reinforcement learning algorithms. It supports teaching agents everything from walking to playing games like pong or pinball. Gym is an open source interface to reinforcement learning tasks. Gym provides an environment and its is upto the developer to implement any reinforcement learning algorithms. Developers can write agent using existing numerical computation library, such as TensorFlow or Theano. (from : https://medium.com/@ashish_fagna/understanding-openai-gym-25c79c06eccb)"
      ]
    },
    {
      "cell_type": "markdown",
      "metadata": {
        "id": "afmzz1xi3RAK"
      },
      "source": [
        "## Installing gym and nes py"
      ]
    },
    {
      "cell_type": "code",
      "execution_count": null,
      "metadata": {
        "colab": {
          "base_uri": "https://localhost:8080/"
        },
        "id": "sLoHvAAb3RAL",
        "outputId": "8b501e09-ba39-4c8f-81b2-e2cbb01c9044"
      },
      "outputs": [
        {
          "output_type": "stream",
          "name": "stdout",
          "text": [
            "\u001b[K     |████████████████████████████████| 198 kB 29.8 MB/s \n",
            "\u001b[K     |████████████████████████████████| 77 kB 7.2 MB/s \n",
            "\u001b[K     |████████████████████████████████| 1.1 MB 51.1 MB/s \n",
            "\u001b[?25h  Building wheel for nes-py (setup.py) ... \u001b[?25l\u001b[?25hdone\n"
          ]
        }
      ],
      "source": [
        "!pip install -q gym_super_mario_bros==7.3.0 nes_py"
      ]
    },
    {
      "cell_type": "markdown",
      "metadata": {
        "id": "pR_hAhCy3RAM"
      },
      "source": [
        "## For rendering and display remotely on Colab notebook\n",
        "\n",
        "Since you are using a remote server extra code needs to be added to render mario in your notebook itself.\n",
        "https://stackoverflow.com/a/45179251"
      ]
    },
    {
      "cell_type": "code",
      "execution_count": null,
      "metadata": {
        "colab": {
          "base_uri": "https://localhost:8080/"
        },
        "id": "yxWGtfPG3RAM",
        "outputId": "3468979e-9a9c-4f8b-8a26-9f2219300579"
      },
      "outputs": [
        {
          "output_type": "stream",
          "name": "stdout",
          "text": [
            "/bin/bash: xvfb-run: command not found\n"
          ]
        }
      ],
      "source": [
        "!xvfb-run -s \"-screen 0 1400x900x24\" jupyter notebook"
      ]
    },
    {
      "cell_type": "code",
      "execution_count": null,
      "metadata": {
        "id": "jGQf66p-3RAN"
      },
      "outputs": [],
      "source": [
        "import matplotlib.pyplot as plt\n",
        "%matplotlib inline\n",
        "from IPython import display"
      ]
    },
    {
      "cell_type": "markdown",
      "metadata": {
        "id": "6jmr_LOa3RAN"
      },
      "source": [
        "Lets create a function to render the game state in notebook."
      ]
    },
    {
      "cell_type": "code",
      "execution_count": null,
      "metadata": {
        "id": "BwHYOkfO3RAN"
      },
      "outputs": [],
      "source": [
        "def show_state(env, step=0, info=\"\"):\n",
        "    plt.figure(3)\n",
        "    plt.clf()\n",
        "    plt.imshow(env.render(mode='rgb_array'))\n",
        "    plt.title(\"Step: %d %s\" % (step, info))\n",
        "    plt.axis('off')\n",
        "\n",
        "    display.clear_output(wait=True)\n",
        "    display.display(plt.gcf())"
      ]
    },
    {
      "cell_type": "markdown",
      "metadata": {
        "id": "428wppgC3RAO"
      },
      "source": [
        "# INITIAL RUN"
      ]
    },
    {
      "cell_type": "markdown",
      "metadata": {
        "id": "eQD_L28Y3RAO"
      },
      "source": [
        "### 1. lets import all the functions needed."
      ]
    },
    {
      "cell_type": "code",
      "execution_count": null,
      "metadata": {
        "id": "rwCJdTTc3RAP"
      },
      "outputs": [],
      "source": [
        "import gym_super_mario_bros\n",
        "from nes_py.wrappers import JoypadSpace\n",
        "\n",
        "from gym_super_mario_bros.actions import SIMPLE_MOVEMENT"
      ]
    },
    {
      "cell_type": "markdown",
      "metadata": {
        "id": "bszo8txR3RAP"
      },
      "source": [
        "There are seven unique SIMPLE_MOVEMENT values."
      ]
    },
    {
      "cell_type": "code",
      "execution_count": null,
      "metadata": {
        "colab": {
          "base_uri": "https://localhost:8080/"
        },
        "id": "m54A3TVj3RAP",
        "outputId": "975034e8-3e24-4d7b-e628-6ed8512c723f"
      },
      "outputs": [
        {
          "output_type": "execute_result",
          "data": {
            "text/plain": [
              "[['NOOP'],\n",
              " ['right'],\n",
              " ['right', 'A'],\n",
              " ['right', 'B'],\n",
              " ['right', 'A', 'B'],\n",
              " ['A'],\n",
              " ['left']]"
            ]
          },
          "metadata": {},
          "execution_count": 6
        }
      ],
      "source": [
        "SIMPLE_MOVEMENT"
      ]
    },
    {
      "cell_type": "markdown",
      "metadata": {
        "id": "tf-ogGxm3RAP"
      },
      "source": [
        "### 2. We need to initialise the environment."
      ]
    },
    {
      "cell_type": "code",
      "execution_count": null,
      "metadata": {
        "colab": {
          "base_uri": "https://localhost:8080/"
        },
        "id": "j_whalRj3RAQ",
        "outputId": "31717dfe-9098-4f29-b8bb-8fa4a7f7ea47"
      },
      "outputs": [
        {
          "output_type": "stream",
          "name": "stderr",
          "text": [
            "/usr/local/lib/python3.7/dist-packages/gym/envs/registration.py:594: UserWarning: \u001b[33mWARN: The environment SuperMarioBros-v0 is out of date. You should consider upgrading to version `v3`.\u001b[0m\n",
            "  f\"The environment {id} is out of date. You should consider \"\n",
            "/usr/local/lib/python3.7/dist-packages/gym/core.py:318: DeprecationWarning: \u001b[33mWARN: Initializing wrapper in old step API which returns one bool instead of two. It is recommended to set `new_step_api=True` to use new step API. This will be the default behaviour in future.\u001b[0m\n",
            "  \"Initializing wrapper in old step API which returns one bool instead of two. It is recommended to set `new_step_api=True` to use new step API. This will be the default behaviour in future.\"\n",
            "/usr/local/lib/python3.7/dist-packages/gym/wrappers/step_api_compatibility.py:40: DeprecationWarning: \u001b[33mWARN: Initializing environment in old step API which returns one bool instead of two. It is recommended to set `new_step_api=True` to use new step API. This will be the default behaviour in future.\u001b[0m\n",
            "  \"Initializing environment in old step API which returns one bool instead of two. It is recommended to set `new_step_api=True` to use new step API. This will be the default behaviour in future.\"\n"
          ]
        }
      ],
      "source": [
        "env = gym_super_mario_bros.make('SuperMarioBros-v0')"
      ]
    },
    {
      "cell_type": "markdown",
      "metadata": {
        "id": "ZkT6_I9f3RAQ"
      },
      "source": [
        "### 3. Let environment know the input space."
      ]
    },
    {
      "cell_type": "code",
      "execution_count": null,
      "metadata": {
        "id": "dVYVZjpI3RAQ"
      },
      "outputs": [],
      "source": [
        "env = JoypadSpace(env, SIMPLE_MOVEMENT)"
      ]
    },
    {
      "cell_type": "markdown",
      "metadata": {
        "id": "dPU_S-ZW3RAQ"
      },
      "source": [
        "Lets examine the number of \"observations\" that can result in the enviroment."
      ]
    },
    {
      "cell_type": "code",
      "execution_count": null,
      "metadata": {
        "colab": {
          "base_uri": "https://localhost:8080/"
        },
        "id": "IfGl340c3RAR",
        "outputId": "7fa78088-fcc3-4adf-e20e-c56eb1b94272"
      },
      "outputs": [
        {
          "output_type": "execute_result",
          "data": {
            "text/plain": [
              "Discrete(7)"
            ]
          },
          "metadata": {},
          "execution_count": 9
        }
      ],
      "source": [
        "env.action_space"
      ]
    },
    {
      "cell_type": "code",
      "execution_count": null,
      "metadata": {
        "colab": {
          "base_uri": "https://localhost:8080/"
        },
        "id": "wQgXrjrJ3RAR",
        "outputId": "e4edf951-1699-4f3f-dda2-59e4724a0926"
      },
      "outputs": [
        {
          "output_type": "execute_result",
          "data": {
            "text/plain": [
              "(240, 256, 3)"
            ]
          },
          "metadata": {},
          "execution_count": 10
        }
      ],
      "source": [
        "env.observation_space.shape"
      ]
    },
    {
      "cell_type": "markdown",
      "metadata": {
        "id": "byrJnmH53RAR"
      },
      "source": [
        "### 4. Creating a simple loop for display."
      ]
    },
    {
      "cell_type": "code",
      "execution_count": null,
      "metadata": {
        "colab": {
          "base_uri": "https://localhost:8080/",
          "height": 511
        },
        "id": "4owsBhSm3RAS",
        "outputId": "36a7ab07-3ce9-4cb1-f8cc-24f5f351bd31"
      },
      "outputs": [
        {
          "output_type": "display_data",
          "data": {
            "text/plain": [
              "<Figure size 432x288 with 1 Axes>"
            ],
            "image/png": "[encoded data removed]"
          },
          "metadata": {}
        },
        {
          "output_type": "display_data",
          "data": {
            "text/plain": [
              "<Figure size 432x288 with 1 Axes>"
            ],
            "image/png": "[encoded data removed]"
          },
          "metadata": {
            "needs_background": "light"
          }
        }
      ],
      "source": [
        "done = True\n",
        "for step in range(100):\n",
        "    if done:\n",
        "        env.reset()\n",
        "    state, reward, done, info = env.step(env.action_space.sample())\n",
        "    #print(state, reward, done, info)\n",
        "    show_state(env,step,info)\n",
        "#env.close()"
      ]
    },
    {
      "cell_type": "markdown",
      "metadata": {
        "id": "MopWYF_a3RAS"
      },
      "source": [
        "### Mario is up and running. Yay!\n",
        "\n",
        "`Note: if you uncomment the env.close() line you'll have to initialise environment again`\n",
        "\n",
        "\n",
        "## Note on what we observe\n",
        "\n",
        "Observations\n",
        "If we ever want to do better than take random actions at each step, it’d probably be good to actually know what our actions are doing to the environment.\n",
        "\n",
        "The environment’s step function returns exactly what we need. In fact, step returns four values. These are:\n",
        "\n",
        "observation (object): an environment-specific object representing your observation of the environment. For example, pixel data from a camera, joint angles and joint velocities of a robot, or the board state in a board game.\n",
        "reward (float): amount of reward achieved by the previous action. The scale varies between environments, but the goal is always to increase your total reward.\n",
        "done (boolean): whether it’s time to reset the environment again. Most (but not all) tasks are divided up into well-defined episodes, and done being True indicates the episode has terminated. (For example, perhaps the pole tipped too far, or you lost your last life.)\n",
        "info (dict): diagnostic information useful for debugging. It can sometimes be useful for learning (for example, it might contain the raw probabilities behind the environment’s last state change). However, official evaluations of your agent are not allowed to use this for learning.\n",
        "This is just an implementation of the classic “agent-environment loop”. Each timestep, the agent chooses an action, and the environment returns an observation and a reward.\n",
        "\n",
        "\n",
        "The process gets started by calling reset(), which returns an initial observation. So a more proper way of writing the previous code would be to respect the done flag. (https://gym.openai.com/docs/#environments)"
      ]
    },
    {
      "cell_type": "markdown",
      "metadata": {
        "id": "c7oPkXBw3RAT"
      },
      "source": [
        "# PREPROCESS ENVIRONMENT"
      ]
    },
    {
      "cell_type": "markdown",
      "metadata": {
        "id": "pzMz8CSQ3RAT"
      },
      "source": [
        "Lets make our pipeline more efficient with some quality of life changes. Lets start by installing torch, torchvision, torchaudio. (It should be already installed in Colab but just to be sure).\n",
        "\n",
        "![](https://encrypted-tbn0.gstatic.com/images?q=tbn:ANd9GcQyrn8kARfzWOySc97OsBa4v_dncfeNxB3GCcZA9Ufssdy7PP1--9FM8W8tMVdyLMt3k3Y&usqp=CAU)"
      ]
    },
    {
      "cell_type": "code",
      "execution_count": null,
      "metadata": {
        "id": "6UpM78nT3RAT"
      },
      "outputs": [],
      "source": [
        "#!pip install torch==1.10.1+cu113 torchvision==0.11.2+cu113 torchaudio===0.10.1+cu113\n",
        "!pip install -q torch torchvision torchaudio"
      ]
    },
    {
      "cell_type": "markdown",
      "metadata": {
        "id": "Na-C7gtv3RAT"
      },
      "source": [
        "## Using Stable Baselines RL algorithms"
      ]
    },
    {
      "cell_type": "markdown",
      "metadata": {
        "id": "l50j_KaN3RAU"
      },
      "source": [
        "Stable Baselines is a set of improved implementations of Reinforcement Learning (RL) algorithms based on OpenAI Baselines. Which is what we would be using here."
      ]
    },
    {
      "cell_type": "code",
      "execution_count": null,
      "metadata": {
        "colab": {
          "base_uri": "https://localhost:8080/"
        },
        "id": "1BexCzSI3RAU",
        "outputId": "c51a8849-a445-4f76-95fa-555023807ec3"
      },
      "outputs": [
        {
          "output_type": "stream",
          "name": "stdout",
          "text": [
            "\u001b[K     |████████████████████████████████| 170 kB 30.5 MB/s \n",
            "\u001b[K     |████████████████████████████████| 1.5 MB 56.0 MB/s \n",
            "\u001b[K     |████████████████████████████████| 1.6 MB 53.8 MB/s \n",
            "\u001b[K     |████████████████████████████████| 237 kB 68.4 MB/s \n",
            "\u001b[?25h  Installing build dependencies ... \u001b[?25l\u001b[?25hdone\n",
            "  Getting requirements to build wheel ... \u001b[?25l\u001b[?25hdone\n",
            "    Preparing wheel metadata ... \u001b[?25l\u001b[?25hdone\n",
            "\u001b[K     |████████████████████████████████| 51 kB 8.3 MB/s \n",
            "\u001b[?25h  Building wheel for gym (setup.py) ... \u001b[?25l\u001b[?25hdone\n",
            "  Building wheel for AutoROM.accept-rom-license (PEP 517) ... \u001b[?25l\u001b[?25hdone\n"
          ]
        }
      ],
      "source": [
        "!pip install -q stable-baselines3[extra]"
      ]
    },
    {
      "cell_type": "markdown",
      "metadata": {
        "id": "GqzVV6ZZ3RAU"
      },
      "source": [
        "We use `GrayScaleObservation` to reduce the overhead of using color pictures while training."
      ]
    },
    {
      "cell_type": "code",
      "execution_count": null,
      "metadata": {
        "id": "0qVtYusb3RAU"
      },
      "outputs": [],
      "source": [
        "from gym.wrappers import GrayScaleObservation\n"
      ]
    },
    {
      "cell_type": "markdown",
      "metadata": {
        "id": "FZgAMrCY3RAU"
      },
      "source": [
        "### A note on VECTORIZED ENVIRONMENT in Stable Baselines\n",
        "\n",
        "Vectorized Environments are a method for stacking multiple independent environments into a single environment. Instead of training an RL agent on 1 environment per step, it allows us to train it on n environments per step. Because of this, actions passed to the environment are now a vector (of dimension n). It is the same for observations, rewards and end of episode signals (dones). In the case of non-array observation spaces such as Dict or Tuple, where different sub-spaces may have different shapes, the sub-observations are vectors (of dimension n). (https://stable-baselines.readthedocs.io/en/master/guide/vec_envs.html)"
      ]
    },
    {
      "cell_type": "code",
      "execution_count": null,
      "metadata": {
        "id": "pxp7dGiZ3RAV"
      },
      "outputs": [],
      "source": [
        "from stable_baselines3.common.vec_env import VecFrameStack, DummyVecEnv\n",
        "#from matplotlib import pyplot as plt"
      ]
    },
    {
      "cell_type": "markdown",
      "metadata": {
        "id": "s8EnZ8Yw3RAV"
      },
      "source": [
        "Lets initialise the env with added parameters."
      ]
    },
    {
      "cell_type": "code",
      "execution_count": null,
      "metadata": {
        "id": "1SsLhQca3RAV"
      },
      "outputs": [],
      "source": [
        "# env = gym_super_mario_bros.make('SuperMarioBros-v0')\n",
        "# env = JoypadSpace(env, SIMPLE_MOVEMENT)\n",
        "env = GrayScaleObservation(env, keep_dim=True)\n",
        "env = DummyVecEnv([lambda: env])\n",
        "env = VecFrameStack(env, 4, channels_order='last')"
      ]
    },
    {
      "cell_type": "markdown",
      "metadata": {
        "id": "7zVwOIuO3RAV"
      },
      "source": [
        "Starting from scratch with `env.reset()`."
      ]
    },
    {
      "cell_type": "code",
      "execution_count": null,
      "metadata": {
        "id": "1ZCPruJr3RAV"
      },
      "outputs": [],
      "source": [
        "state = env.reset()"
      ]
    },
    {
      "cell_type": "code",
      "execution_count": null,
      "metadata": {
        "id": "DHGvRobp3RAW"
      },
      "outputs": [],
      "source": [
        "state, reward, done, info = env.step([5])"
      ]
    },
    {
      "cell_type": "markdown",
      "metadata": {
        "id": "5g_3RmW13RAW"
      },
      "source": [
        "### Displaying sample input"
      ]
    },
    {
      "cell_type": "code",
      "execution_count": null,
      "metadata": {
        "colab": {
          "base_uri": "https://localhost:8080/",
          "height": 279
        },
        "id": "kGPHv4be3RAW",
        "outputId": "cf15ce65-1f4b-4de7-b9fc-bfedd5e66457"
      },
      "outputs": [
        {
          "output_type": "display_data",
          "data": {
            "text/plain": [
              "<Figure size 1440x1152 with 4 Axes>"
            ],
            "image/png": "[encoded data removed]"
          },
          "metadata": {
            "needs_background": "light"
          }
        }
      ],
      "source": [
        "plt.figure(figsize=(20,16))\n",
        "for idx in range(state.shape[3]):\n",
        "    plt.subplot(1,4,idx+1)\n",
        "    plt.imshow(state[0][:,:,idx])\n",
        "plt.show()"
      ]
    },
    {
      "cell_type": "markdown",
      "metadata": {
        "id": "gaJ_XP4o3RAW"
      },
      "source": [
        "This is the sample game state world we are going to work with."
      ]
    },
    {
      "cell_type": "markdown",
      "metadata": {
        "id": "RLchQ6xo3RAW"
      },
      "source": [
        "# TRAINING THE RL MODEL\n",
        "\n",
        "Its training time. \n",
        "\n",
        "![](https://giffiles.alphacoders.com/260/2600.gif)"
      ]
    },
    {
      "cell_type": "code",
      "execution_count": null,
      "metadata": {
        "id": "c-t_jiWR3RAX"
      },
      "outputs": [],
      "source": [
        "import os\n",
        "from stable_baselines3 import PPO\n",
        "from stable_baselines3.common.callbacks import BaseCallback"
      ]
    },
    {
      "cell_type": "markdown",
      "metadata": {
        "id": "QKACdwLY3RAX"
      },
      "source": [
        "PPO stands for proximal policy optimisation. Read more it here: https://arxiv.org/abs/1707.06347"
      ]
    },
    {
      "cell_type": "code",
      "execution_count": null,
      "metadata": {
        "id": "7VS4rnNw3RAX"
      },
      "outputs": [],
      "source": [
        "class TrainAndLoggingCallback(BaseCallback):\n",
        "    \n",
        "    def __init__(self, check_freq, save_path, verbose=1):\n",
        "        super(TrainAndLoggingCallback, self).__init__(verbose)\n",
        "        self.check_freq = check_freq\n",
        "        self.save_path = save_path\n",
        "    \n",
        "    def _init_callback(self):\n",
        "        if self.save_path is not None:\n",
        "            os.makedirs(self.save_path, exist_ok=True)\n",
        "    \n",
        "    def _on_step(self):\n",
        "        if self.n_calls % self.check_freq == 0:\n",
        "            model_path = os.path.join(self.save_path, 'best_model_{}'.format(self.n_calls))\n",
        "            self.model.save(model_path)\n",
        "        return True"
      ]
    },
    {
      "cell_type": "markdown",
      "metadata": {
        "id": "Z3cuDHXK3RAY"
      },
      "source": [
        "### Note on Callbacks\n",
        "A callback is a set of functions that will be called at given stages of the training procedure. You can use callbacks to access internal state of the RL model during training. It allows one to do monitoring, auto saving, model manipulation, progress bars, "
      ]
    },
    {
      "cell_type": "code",
      "execution_count": null,
      "metadata": {
        "id": "dz9xyzcs3RAY"
      },
      "outputs": [],
      "source": [
        "CHECKPOINT_DIR = './train/'\n",
        "LOG_DIR = './logs/'"
      ]
    },
    {
      "cell_type": "markdown",
      "metadata": {
        "id": "M6KELr713RAZ"
      },
      "source": [
        "## IMPORTANT\n",
        "\n",
        "### If you increase the `check_freq` value you will get better result. but it takes more time. So its a question of how much time you have.\n",
        "For quick demostration sake I am keeping it low."
      ]
    },
    {
      "cell_type": "code",
      "execution_count": null,
      "metadata": {
        "id": "WXIjrCqp3RAZ"
      },
      "outputs": [],
      "source": [
        "check_freq = 100\n",
        "#check_freq = 100000"
      ]
    },
    {
      "cell_type": "markdown",
      "metadata": {
        "id": "dEzkEj563RAZ"
      },
      "source": [
        "### 1. Defining callback"
      ]
    },
    {
      "cell_type": "code",
      "execution_count": null,
      "metadata": {
        "id": "Hbk8aKqS3RAZ"
      },
      "outputs": [],
      "source": [
        "callback = TrainAndLoggingCallback(check_freq=check_freq, save_path=CHECKPOINT_DIR)"
      ]
    },
    {
      "cell_type": "markdown",
      "metadata": {
        "id": "dxkzG0KY3RAZ"
      },
      "source": [
        "### 2. Initialising the PPO model."
      ]
    },
    {
      "cell_type": "code",
      "execution_count": null,
      "metadata": {
        "colab": {
          "base_uri": "https://localhost:8080/"
        },
        "id": "AgGPCJiy3RAa",
        "outputId": "101a15a7-7a73-48d1-f0bf-524b27424a8a"
      },
      "outputs": [
        {
          "output_type": "stream",
          "name": "stdout",
          "text": [
            "Using cuda device\n",
            "Wrapping the env in a VecTransposeImage.\n"
          ]
        }
      ],
      "source": [
        "model = PPO('CnnPolicy', env, verbose=1, tensorboard_log=LOG_DIR, learning_rate=0.000001, n_steps=512)"
      ]
    },
    {
      "cell_type": "markdown",
      "metadata": {
        "id": "AcgJScS03RAa"
      },
      "source": [
        "### 3. Learning"
      ]
    },
    {
      "cell_type": "code",
      "execution_count": null,
      "metadata": {
        "colab": {
          "base_uri": "https://localhost:8080/"
        },
        "id": "JSGlw1nr3RAa",
        "outputId": "4030c356-9c17-461f-ff5a-bd3ce2039e4a"
      },
      "outputs": [
        {
          "output_type": "stream",
          "name": "stdout",
          "text": [
            "Logging to ./logs/PPO_1\n"
          ]
        },
        {
          "output_type": "stream",
          "name": "stderr",
          "text": [
            "/usr/local/lib/python3.7/dist-packages/gym_super_mario_bros/smb_env.py:148: RuntimeWarning: overflow encountered in ubyte_scalars\n",
            "  return (self.ram[0x86] - self.ram[0x071c]) % 256\n"
          ]
        },
        {
          "output_type": "stream",
          "name": "stdout",
          "text": [
            "----------------------------\n",
            "| time/              |     |\n",
            "|    fps             | 29  |\n",
            "|    iterations      | 1   |\n",
            "|    time_elapsed    | 17  |\n",
            "|    total_timesteps | 512 |\n",
            "----------------------------\n"
          ]
        },
        {
          "output_type": "execute_result",
          "data": {
            "text/plain": [
              "<stable_baselines3.ppo.ppo.PPO at 0x7ff8606fb590>"
            ]
          },
          "metadata": {},
          "execution_count": 26
        }
      ],
      "source": [
        "model.learn(total_timesteps=check_freq, callback=callback)"
      ]
    },
    {
      "cell_type": "code",
      "execution_count": null,
      "metadata": {
        "id": "EAoD2U623RAa"
      },
      "outputs": [],
      "source": [
        "model.save('astatemodel')"
      ]
    },
    {
      "cell_type": "markdown",
      "metadata": {
        "id": "wHQjv0OD3RAb"
      },
      "source": [
        "## TEST IT OUT\n",
        "\n",
        "Here is how you test the algorithm."
      ]
    },
    {
      "cell_type": "code",
      "execution_count": null,
      "metadata": {
        "id": "KJ_t-OyA3RAb"
      },
      "outputs": [],
      "source": [
        "model = PPO.load('./astatemodel')\n",
        "#model = PPO.load('./train/best_model_10000')"
      ]
    },
    {
      "cell_type": "code",
      "execution_count": null,
      "metadata": {
        "id": "NNdfbgXe3RAb"
      },
      "outputs": [],
      "source": [
        "state = env.reset()"
      ]
    },
    {
      "cell_type": "code",
      "execution_count": null,
      "metadata": {
        "colab": {
          "base_uri": "https://localhost:8080/",
          "height": 511
        },
        "id": "y6rn8hdX3RAb",
        "outputId": "1c083713-bcdb-450e-e285-1dd52a3c3e39"
      },
      "outputs": [
        {
          "output_type": "display_data",
          "data": {
            "text/plain": [
              "<Figure size 432x288 with 1 Axes>"
            ],
            "image/png": "[encoded data removed]"
          },
          "metadata": {}
        },
        {
          "output_type": "display_data",
          "data": {
            "text/plain": [
              "<Figure size 432x288 with 1 Axes>"
            ],
            "image/png": "[encoded data removed]"
          },
          "metadata": {
            "needs_background": "light"
          }
        }
      ],
      "source": [
        "state = env.reset()\n",
        "\n",
        "#for step in range(10000):\n",
        "for step in range(1000):\n",
        "    if done:\n",
        "        env.reset()\n",
        "    action, _ = model.predict(state)\n",
        "    state, reward, done, info = env.step(action)\n",
        "    #print(state, reward, done, info)\n",
        "    show_state(env,step,info)\n",
        "#env.close()"
      ]
    },
    {
      "cell_type": "markdown",
      "metadata": {
        "id": "bGaPjAc23RAb"
      },
      "source": [
        "### NOTE: \n",
        "1. Youll notice that on lower values of check_freq mario doesn't even know that he needs to get big inorder to jump over the first pipe.\n",
        "2. Try increasing the check_freq value after initial run, more the value better trained our mario."
      ]
    },
    {
      "cell_type": "markdown",
      "metadata": {
        "id": "gYcuVlep3RAc"
      },
      "source": [
        "Thank you for reading!\n",
        "\n",
        "![](https://encrypted-tbn0.gstatic.com/images?q=tbn:ANd9GcQxZPsJQ5H4SXIUa5uekV-HQZyjpRMmlmmArQ&usqp=CAU)"
      ]
    }
  ],
  "metadata": {
    "accelerator": "GPU",
    "colab": {
      "collapsed_sections": [
        "MopWYF_a3RAS"
      ],
      "provenance": [],
      "include_colab_link": true
    },
    "gpuClass": "standard",
    "kernelspec": {
      "display_name": "Python 3",
      "language": "python",
      "name": "python3"
    },
    "language_info": {
      "codemirror_mode": {
        "name": "ipython",
        "version": 3
      },
      "file_extension": ".py",
      "mimetype": "text/x-python",
      "name": "python",
      "nbconvert_exporter": "python",
      "pygments_lexer": "ipython3",
      "version": "3.7.12"
    }
  },
  "nbformat": 4,
  "nbformat_minor": 0
}